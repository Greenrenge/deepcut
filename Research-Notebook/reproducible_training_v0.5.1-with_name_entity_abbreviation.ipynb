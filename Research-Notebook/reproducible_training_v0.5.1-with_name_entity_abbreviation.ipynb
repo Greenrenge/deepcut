{
 "cells": [
  {
   "cell_type": "code",
   "execution_count": 1,
   "metadata": {
    "ExecuteTime": {
     "end_time": "2017-07-02T00:10:38.349096",
     "start_time": "2017-07-02T00:10:37.120298"
    },
    "collapsed": false
   },
   "outputs": [
    {
     "name": "stderr",
     "output_type": "stream",
     "text": [
      "Using TensorFlow backend.\n"
     ]
    }
   ],
   "source": [
    "import os, sys\n",
    "import pandas as pd\n",
    "\n",
    "sys.path.append('../deepcut')\n",
    "\n",
    "from train import *"
   ]
  },
  {
   "cell_type": "code",
   "execution_count": 2,
   "metadata": {
    "ExecuteTime": {
     "end_time": "2017-07-02T00:11:19.210086",
     "start_time": "2017-07-02T00:10:39.349659"
    },
    "collapsed": false
   },
   "outputs": [
    {
     "name": "stdout",
     "output_type": "stream",
     "text": [
      "Save article to CSV file\n",
      "Save encyclopedia to CSV file\n",
      "Save news to CSV file\n",
      "Save novel to CSV file\n"
     ]
    }
   ],
   "source": [
    "# BEST corpus should be extracted into 'input' folder on the same directory as this notebook \n",
    "\n",
    "generate_best_dataset('input')"
   ]
  },
  {
   "cell_type": "code",
   "execution_count": 3,
   "metadata": {
    "ExecuteTime": {
     "end_time": "2017-07-02T06:44:02.759202",
     "start_time": "2017-07-02T00:11:27.672651"
    },
    "collapsed": false
   },
   "outputs": [
    {
     "name": "stdout",
     "output_type": "stream",
     "text": [
      "Train on 20199194 samples, validate on 2207037 samples\n",
      "Epoch 1/10\n",
      "1308s - loss: 0.0433 - acc: 0.9847 - val_loss: 0.0304 - val_acc: 0.9901\n",
      "Epoch 2/10\n",
      "1313s - loss: 0.0302 - acc: 0.9898 - val_loss: 0.0269 - val_acc: 0.9914\n",
      "Epoch 3/10\n",
      "1310s - loss: 0.0269 - acc: 0.9910 - val_loss: 0.0251 - val_acc: 0.9919\n",
      "Epoch 4/10\n",
      "1308s - loss: 0.0251 - acc: 0.9917 - val_loss: 0.0246 - val_acc: 0.9923\n",
      "Epoch 5/10\n",
      "1306s - loss: 0.0239 - acc: 0.9921 - val_loss: 0.0243 - val_acc: 0.9924\n",
      "Epoch 6/10\n",
      "1306s - loss: 0.0229 - acc: 0.9924 - val_loss: 0.0235 - val_acc: 0.9928\n",
      "Epoch 7/10\n",
      "1304s - loss: 0.0222 - acc: 0.9926 - val_loss: 0.0237 - val_acc: 0.9925\n",
      "Epoch 8/10\n",
      "1302s - loss: 0.0216 - acc: 0.9928 - val_loss: 0.0227 - val_acc: 0.9929\n",
      "Epoch 9/10\n",
      "1302s - loss: 0.0211 - acc: 0.9930 - val_loss: 0.0225 - val_acc: 0.9930\n",
      "Epoch 10/10\n",
      "1300s - loss: 0.0207 - acc: 0.9931 - val_loss: 0.0223 - val_acc: 0.9931\n",
      "Train on 20199194 samples, validate on 2207037 samples\n",
      "Epoch 1/3\n",
      "1021s - loss: 0.0194 - acc: 0.9936 - val_loss: 0.0220 - val_acc: 0.9933\n",
      "Epoch 2/3\n",
      "1019s - loss: 0.0189 - acc: 0.9937 - val_loss: 0.0217 - val_acc: 0.9933\n",
      "Epoch 3/3\n",
      "1020s - loss: 0.0187 - acc: 0.9938 - val_loss: 0.0218 - val_acc: 0.9934\n",
      "Train on 20199194 samples, validate on 2207037 samples\n",
      "Epoch 1/3\n",
      "845s - loss: 0.0174 - acc: 0.9942 - val_loss: 0.0213 - val_acc: 0.9935\n",
      "Epoch 2/3\n",
      "846s - loss: 0.0171 - acc: 0.9943 - val_loss: 0.0211 - val_acc: 0.9936\n",
      "Epoch 3/3\n",
      "845s - loss: 0.0170 - acc: 0.9943 - val_loss: 0.0213 - val_acc: 0.9936\n",
      "Train on 20199194 samples, validate on 2207037 samples\n",
      "Epoch 1/3\n",
      "818s - loss: 0.0164 - acc: 0.9945 - val_loss: 0.0212 - val_acc: 0.9936\n",
      "Epoch 2/3\n",
      "815s - loss: 0.0164 - acc: 0.9946 - val_loss: 0.0209 - val_acc: 0.9936\n",
      "Epoch 3/3\n",
      "807s - loss: 0.0162 - acc: 0.9946 - val_loss: 0.0212 - val_acc: 0.9937\n",
      "Train on 20199194 samples, validate on 2207037 samples\n",
      "Epoch 1/3\n",
      "808s - loss: 0.0158 - acc: 0.9947 - val_loss: 0.0210 - val_acc: 0.9937\n",
      "Epoch 2/3\n",
      "808s - loss: 0.0157 - acc: 0.9947 - val_loss: 0.0211 - val_acc: 0.9937\n",
      "Epoch 3/3\n",
      "807s - loss: 0.0157 - acc: 0.9948 - val_loss: 0.0209 - val_acc: 0.9938\n"
     ]
    }
   ],
   "source": [
    "model = train_model('cleaned_data')"
   ]
  },
  {
   "cell_type": "code",
   "execution_count": 4,
   "metadata": {
    "ExecuteTime": {
     "end_time": "2017-07-02T06:46:11.150920",
     "start_time": "2017-07-02T06:44:02.760593"
    },
    "collapsed": false
   },
   "outputs": [
    {
     "data": {
      "text/plain": [
       "(0.98762049347447645, 0.98484330321092783, 0.99041339100184023)"
      ]
     },
     "execution_count": 4,
     "metadata": {},
     "output_type": "execute_result"
    }
   ],
   "source": [
    "evaluate('cleaned_data', model)"
   ]
  },
  {
   "cell_type": "markdown",
   "metadata": {
    "collapsed": true
   },
   "source": [
    "This script is done with comment on this line \n",
    "\n",
    "line = reduce(lambda a, kv: a.replace(*kv), repls.items(), line)\n",
    "\n",
    "It means we are tokenizing words with name_entity and abbreviation tag"
   ]
  },
  {
   "cell_type": "code",
   "execution_count": null,
   "metadata": {
    "collapsed": true
   },
   "outputs": [],
   "source": []
  }
 ],
 "metadata": {
  "kernelspec": {
   "display_name": "Python 3",
   "language": "python",
   "name": "python3"
  },
  "language_info": {
   "codemirror_mode": {
    "name": "ipython",
    "version": 3
   },
   "file_extension": ".py",
   "mimetype": "text/x-python",
   "name": "python",
   "nbconvert_exporter": "python",
   "pygments_lexer": "ipython3",
   "version": "3.6.0"
  }
 },
 "nbformat": 4,
 "nbformat_minor": 2
}
